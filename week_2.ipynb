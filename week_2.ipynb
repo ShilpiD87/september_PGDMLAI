{
 "cells": [
  {
   "cell_type": "markdown",
   "metadata": {},
   "source": [
    "### Week 2: Ridge Regression"
   ]
  },
  {
   "cell_type": "code",
   "execution_count": 2,
   "metadata": {},
   "outputs": [],
   "source": [
    "import matplotlib.pyplot as plt\n",
    "import numpy as np\n",
    "import pandas as pd\n",
    "import seaborn as sns\n",
    "\n",
    "from sklearn.model_selection import train_test_split, GridSearchCV, cross_val_score\n",
    "from sklearn.linear_model import LinearRegression, Ridge\n",
    "from sklearn.preprocessing import PolynomialFeatures, StandardScaler"
   ]
  },
  {
   "cell_type": "code",
   "execution_count": 3,
   "metadata": {},
   "outputs": [],
   "source": [
    "from sklearn.datasets import fetch_openml\n",
    "\n",
    "survey = fetch_openml(data_id=534, as_frame=True)"
   ]
  },
  {
   "cell_type": "code",
   "execution_count": 6,
   "metadata": {},
   "outputs": [
    {
     "data": {
      "text/html": [
       "<div>\n",
       "<style scoped>\n",
       "    .dataframe tbody tr th:only-of-type {\n",
       "        vertical-align: middle;\n",
       "    }\n",
       "\n",
       "    .dataframe tbody tr th {\n",
       "        vertical-align: top;\n",
       "    }\n",
       "\n",
       "    .dataframe thead th {\n",
       "        text-align: right;\n",
       "    }\n",
       "</style>\n",
       "<table border=\"1\" class=\"dataframe\">\n",
       "  <thead>\n",
       "    <tr style=\"text-align: right;\">\n",
       "      <th></th>\n",
       "      <th>EDUCATION</th>\n",
       "      <th>SOUTH</th>\n",
       "      <th>SEX</th>\n",
       "      <th>EXPERIENCE</th>\n",
       "      <th>UNION</th>\n",
       "      <th>AGE</th>\n",
       "      <th>RACE</th>\n",
       "      <th>OCCUPATION</th>\n",
       "      <th>SECTOR</th>\n",
       "      <th>MARR</th>\n",
       "    </tr>\n",
       "  </thead>\n",
       "  <tbody>\n",
       "    <tr>\n",
       "      <th>0</th>\n",
       "      <td>8.0</td>\n",
       "      <td>no</td>\n",
       "      <td>female</td>\n",
       "      <td>21.0</td>\n",
       "      <td>not_member</td>\n",
       "      <td>35.0</td>\n",
       "      <td>Hispanic</td>\n",
       "      <td>Other</td>\n",
       "      <td>Manufacturing</td>\n",
       "      <td>Married</td>\n",
       "    </tr>\n",
       "    <tr>\n",
       "      <th>1</th>\n",
       "      <td>9.0</td>\n",
       "      <td>no</td>\n",
       "      <td>female</td>\n",
       "      <td>42.0</td>\n",
       "      <td>not_member</td>\n",
       "      <td>57.0</td>\n",
       "      <td>White</td>\n",
       "      <td>Other</td>\n",
       "      <td>Manufacturing</td>\n",
       "      <td>Married</td>\n",
       "    </tr>\n",
       "    <tr>\n",
       "      <th>2</th>\n",
       "      <td>12.0</td>\n",
       "      <td>no</td>\n",
       "      <td>male</td>\n",
       "      <td>1.0</td>\n",
       "      <td>not_member</td>\n",
       "      <td>19.0</td>\n",
       "      <td>White</td>\n",
       "      <td>Other</td>\n",
       "      <td>Manufacturing</td>\n",
       "      <td>Unmarried</td>\n",
       "    </tr>\n",
       "    <tr>\n",
       "      <th>3</th>\n",
       "      <td>12.0</td>\n",
       "      <td>no</td>\n",
       "      <td>male</td>\n",
       "      <td>4.0</td>\n",
       "      <td>not_member</td>\n",
       "      <td>22.0</td>\n",
       "      <td>White</td>\n",
       "      <td>Other</td>\n",
       "      <td>Other</td>\n",
       "      <td>Unmarried</td>\n",
       "    </tr>\n",
       "    <tr>\n",
       "      <th>4</th>\n",
       "      <td>12.0</td>\n",
       "      <td>no</td>\n",
       "      <td>male</td>\n",
       "      <td>17.0</td>\n",
       "      <td>not_member</td>\n",
       "      <td>35.0</td>\n",
       "      <td>White</td>\n",
       "      <td>Other</td>\n",
       "      <td>Other</td>\n",
       "      <td>Married</td>\n",
       "    </tr>\n",
       "    <tr>\n",
       "      <th>...</th>\n",
       "      <td>...</td>\n",
       "      <td>...</td>\n",
       "      <td>...</td>\n",
       "      <td>...</td>\n",
       "      <td>...</td>\n",
       "      <td>...</td>\n",
       "      <td>...</td>\n",
       "      <td>...</td>\n",
       "      <td>...</td>\n",
       "      <td>...</td>\n",
       "    </tr>\n",
       "    <tr>\n",
       "      <th>529</th>\n",
       "      <td>18.0</td>\n",
       "      <td>no</td>\n",
       "      <td>male</td>\n",
       "      <td>5.0</td>\n",
       "      <td>not_member</td>\n",
       "      <td>29.0</td>\n",
       "      <td>White</td>\n",
       "      <td>Professional</td>\n",
       "      <td>Other</td>\n",
       "      <td>Unmarried</td>\n",
       "    </tr>\n",
       "    <tr>\n",
       "      <th>530</th>\n",
       "      <td>12.0</td>\n",
       "      <td>no</td>\n",
       "      <td>female</td>\n",
       "      <td>33.0</td>\n",
       "      <td>not_member</td>\n",
       "      <td>51.0</td>\n",
       "      <td>Other</td>\n",
       "      <td>Professional</td>\n",
       "      <td>Other</td>\n",
       "      <td>Married</td>\n",
       "    </tr>\n",
       "    <tr>\n",
       "      <th>531</th>\n",
       "      <td>17.0</td>\n",
       "      <td>no</td>\n",
       "      <td>female</td>\n",
       "      <td>25.0</td>\n",
       "      <td>member</td>\n",
       "      <td>48.0</td>\n",
       "      <td>Other</td>\n",
       "      <td>Professional</td>\n",
       "      <td>Other</td>\n",
       "      <td>Married</td>\n",
       "    </tr>\n",
       "    <tr>\n",
       "      <th>532</th>\n",
       "      <td>12.0</td>\n",
       "      <td>yes</td>\n",
       "      <td>male</td>\n",
       "      <td>13.0</td>\n",
       "      <td>member</td>\n",
       "      <td>31.0</td>\n",
       "      <td>White</td>\n",
       "      <td>Professional</td>\n",
       "      <td>Other</td>\n",
       "      <td>Married</td>\n",
       "    </tr>\n",
       "    <tr>\n",
       "      <th>533</th>\n",
       "      <td>16.0</td>\n",
       "      <td>no</td>\n",
       "      <td>male</td>\n",
       "      <td>33.0</td>\n",
       "      <td>not_member</td>\n",
       "      <td>55.0</td>\n",
       "      <td>White</td>\n",
       "      <td>Professional</td>\n",
       "      <td>Manufacturing</td>\n",
       "      <td>Married</td>\n",
       "    </tr>\n",
       "  </tbody>\n",
       "</table>\n",
       "<p>534 rows × 10 columns</p>\n",
       "</div>"
      ],
      "text/plain": [
       "     EDUCATION SOUTH     SEX  EXPERIENCE       UNION   AGE      RACE  \\\n",
       "0          8.0    no  female        21.0  not_member  35.0  Hispanic   \n",
       "1          9.0    no  female        42.0  not_member  57.0     White   \n",
       "2         12.0    no    male         1.0  not_member  19.0     White   \n",
       "3         12.0    no    male         4.0  not_member  22.0     White   \n",
       "4         12.0    no    male        17.0  not_member  35.0     White   \n",
       "..         ...   ...     ...         ...         ...   ...       ...   \n",
       "529       18.0    no    male         5.0  not_member  29.0     White   \n",
       "530       12.0    no  female        33.0  not_member  51.0     Other   \n",
       "531       17.0    no  female        25.0      member  48.0     Other   \n",
       "532       12.0   yes    male        13.0      member  31.0     White   \n",
       "533       16.0    no    male        33.0  not_member  55.0     White   \n",
       "\n",
       "       OCCUPATION         SECTOR       MARR  \n",
       "0           Other  Manufacturing    Married  \n",
       "1           Other  Manufacturing    Married  \n",
       "2           Other  Manufacturing  Unmarried  \n",
       "3           Other          Other  Unmarried  \n",
       "4           Other          Other    Married  \n",
       "..            ...            ...        ...  \n",
       "529  Professional          Other  Unmarried  \n",
       "530  Professional          Other    Married  \n",
       "531  Professional          Other    Married  \n",
       "532  Professional          Other    Married  \n",
       "533  Professional  Manufacturing    Married  \n",
       "\n",
       "[534 rows x 10 columns]"
      ]
     },
     "execution_count": 6,
     "metadata": {},
     "output_type": "execute_result"
    }
   ],
   "source": [
    "survey.data"
   ]
  },
  {
   "cell_type": "code",
   "execution_count": 7,
   "metadata": {},
   "outputs": [],
   "source": [
    "X = pd.get_dummies(survey.data, drop_first = True)\n",
    "y = survey.target"
   ]
  },
  {
   "cell_type": "code",
   "execution_count": 8,
   "metadata": {},
   "outputs": [
    {
     "data": {
      "text/plain": [
       "LinearRegression()"
      ]
     },
     "execution_count": 8,
     "metadata": {},
     "output_type": "execute_result"
    }
   ],
   "source": [
    "lr = LinearRegression()\n",
    "lr.fit(X, y)"
   ]
  },
  {
   "cell_type": "code",
   "execution_count": 15,
   "metadata": {},
   "outputs": [
    {
     "data": {
      "image/png": "[encoded data removed]",
      "text/plain": [
       "<Figure size 432x288 with 1 Axes>"
      ]
     },
     "metadata": {
      "needs_background": "light"
     },
     "output_type": "display_data"
    }
   ],
   "source": [
    "pd.DataFrame({'features': X.columns, 'coefs': lr.coef_}).plot(kind = 'barh')\n",
    "plt.yticks([i for i in range(16)], [i for i in X.columns]);"
   ]
  },
  {
   "cell_type": "code",
   "execution_count": 16,
   "metadata": {},
   "outputs": [],
   "source": [
    "sscaler = StandardScaler()\n",
    "Xt = sscaler.fit_transform(X)"
   ]
  },
  {
   "cell_type": "code",
   "execution_count": 17,
   "metadata": {},
   "outputs": [
    {
     "data": {
      "text/plain": [
       "LinearRegression()"
      ]
     },
     "execution_count": 17,
     "metadata": {},
     "output_type": "execute_result"
    }
   ],
   "source": [
    "lr2 = LinearRegression()\n",
    "lr2.fit(Xt, y)"
   ]
  },
  {
   "cell_type": "code",
   "execution_count": 18,
   "metadata": {},
   "outputs": [
    {
     "data": {
      "image/png": "[encoded data removed]",
      "text/plain": [
       "<Figure size 432x288 with 1 Axes>"
      ]
     },
     "metadata": {
      "needs_background": "light"
     },
     "output_type": "display_data"
    }
   ],
   "source": [
    "pd.DataFrame({'features': X.columns, 'coefs': lr2.coef_}).plot(kind = 'barh')\n",
    "plt.yticks([i for i in range(16)], [i for i in X.columns]);"
   ]
  },
  {
   "cell_type": "code",
   "execution_count": 19,
   "metadata": {},
   "outputs": [
    {
     "data": {
      "text/html": [
       "<div>\n",
       "<style scoped>\n",
       "    .dataframe tbody tr th:only-of-type {\n",
       "        vertical-align: middle;\n",
       "    }\n",
       "\n",
       "    .dataframe tbody tr th {\n",
       "        vertical-align: top;\n",
       "    }\n",
       "\n",
       "    .dataframe thead th {\n",
       "        text-align: right;\n",
       "    }\n",
       "</style>\n",
       "<table border=\"1\" class=\"dataframe\">\n",
       "  <thead>\n",
       "    <tr style=\"text-align: right;\">\n",
       "      <th></th>\n",
       "      <th>features</th>\n",
       "      <th>coefs</th>\n",
       "    </tr>\n",
       "  </thead>\n",
       "  <tbody>\n",
       "    <tr>\n",
       "      <th>0</th>\n",
       "      <td>EDUCATION</td>\n",
       "      <td>2.123761</td>\n",
       "    </tr>\n",
       "    <tr>\n",
       "      <th>1</th>\n",
       "      <td>EXPERIENCE</td>\n",
       "      <td>3.028271</td>\n",
       "    </tr>\n",
       "    <tr>\n",
       "      <th>2</th>\n",
       "      <td>AGE</td>\n",
       "      <td>-1.851394</td>\n",
       "    </tr>\n",
       "    <tr>\n",
       "      <th>3</th>\n",
       "      <td>SOUTH_yes</td>\n",
       "      <td>-0.255904</td>\n",
       "    </tr>\n",
       "    <tr>\n",
       "      <th>4</th>\n",
       "      <td>SEX_male</td>\n",
       "      <td>0.967958</td>\n",
       "    </tr>\n",
       "    <tr>\n",
       "      <th>5</th>\n",
       "      <td>UNION_not_member</td>\n",
       "      <td>-0.615048</td>\n",
       "    </tr>\n",
       "    <tr>\n",
       "      <th>6</th>\n",
       "      <td>RACE_Other</td>\n",
       "      <td>-0.076639</td>\n",
       "    </tr>\n",
       "    <tr>\n",
       "      <th>7</th>\n",
       "      <td>RACE_White</td>\n",
       "      <td>0.230986</td>\n",
       "    </tr>\n",
       "    <tr>\n",
       "      <th>8</th>\n",
       "      <td>OCCUPATION_Management</td>\n",
       "      <td>0.993382</td>\n",
       "    </tr>\n",
       "    <tr>\n",
       "      <th>9</th>\n",
       "      <td>OCCUPATION_Other</td>\n",
       "      <td>-0.010151</td>\n",
       "    </tr>\n",
       "    <tr>\n",
       "      <th>10</th>\n",
       "      <td>OCCUPATION_Professional</td>\n",
       "      <td>0.768917</td>\n",
       "    </tr>\n",
       "    <tr>\n",
       "      <th>11</th>\n",
       "      <td>OCCUPATION_Sales</td>\n",
       "      <td>-0.204555</td>\n",
       "    </tr>\n",
       "    <tr>\n",
       "      <th>12</th>\n",
       "      <td>OCCUPATION_Service</td>\n",
       "      <td>-0.256221</td>\n",
       "    </tr>\n",
       "    <tr>\n",
       "      <th>13</th>\n",
       "      <td>SECTOR_Manufacturing</td>\n",
       "      <td>0.218980</td>\n",
       "    </tr>\n",
       "    <tr>\n",
       "      <th>14</th>\n",
       "      <td>SECTOR_Other</td>\n",
       "      <td>-0.201009</td>\n",
       "    </tr>\n",
       "    <tr>\n",
       "      <th>15</th>\n",
       "      <td>MARR_Unmarried</td>\n",
       "      <td>-0.142807</td>\n",
       "    </tr>\n",
       "  </tbody>\n",
       "</table>\n",
       "</div>"
      ],
      "text/plain": [
       "                   features     coefs\n",
       "0                 EDUCATION  2.123761\n",
       "1                EXPERIENCE  3.028271\n",
       "2                       AGE -1.851394\n",
       "3                 SOUTH_yes -0.255904\n",
       "4                  SEX_male  0.967958\n",
       "5          UNION_not_member -0.615048\n",
       "6                RACE_Other -0.076639\n",
       "7                RACE_White  0.230986\n",
       "8     OCCUPATION_Management  0.993382\n",
       "9          OCCUPATION_Other -0.010151\n",
       "10  OCCUPATION_Professional  0.768917\n",
       "11         OCCUPATION_Sales -0.204555\n",
       "12       OCCUPATION_Service -0.256221\n",
       "13     SECTOR_Manufacturing  0.218980\n",
       "14             SECTOR_Other -0.201009\n",
       "15           MARR_Unmarried -0.142807"
      ]
     },
     "execution_count": 19,
     "metadata": {},
     "output_type": "execute_result"
    }
   ],
   "source": [
    "pd.DataFrame({'features': X.columns, 'coefs': lr2.coef_})"
   ]
  },
  {
   "cell_type": "code",
   "execution_count": null,
   "metadata": {},
   "outputs": [],
   "source": []
  }
 ],
 "metadata": {
  "kernelspec": {
   "display_name": "Python 3",
   "language": "python",
   "name": "python3"
  },
  "language_info": {
   "codemirror_mode": {
    "name": "ipython",
    "version": 3
   },
   "file_extension": ".py",
   "mimetype": "text/x-python",
   "name": "python",
   "nbconvert_exporter": "python",
   "pygments_lexer": "ipython3",
   "version": "3.8.3"
  }
 },
 "nbformat": 4,
 "nbformat_minor": 4
}
