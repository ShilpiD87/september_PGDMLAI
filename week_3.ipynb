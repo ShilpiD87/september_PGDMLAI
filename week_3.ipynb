{
 "cells": [
  {
   "cell_type": "markdown",
   "metadata": {
    "id": "HlX_XUsmaroP"
   },
   "source": [
    "# Regression Learning Strategies\n",
    "\n",
    "**OBJECTIVES**:\n",
    "\n",
    "Use both statsmodels and sklearn to build and refine regression models.  Specifically we will use OLS Models and Ridge Regressors to explore both libraries and understand how we can perform preprocessing and hyperparameter searches.\n",
    "\n",
    "- OLS\n",
    " - F-test and significance of coefficients\n",
    " - Polynomial Features\n",
    " - Dummy Features\n",
    " - Pipelines\n",
    " \n",
    "- Regularized Methods\n",
    " - Ridge\n",
    " - Lasso\n",
    " - StandardScaler\n",
    " - GridSearchCV\n",
    " \n"
   ]
  },
  {
   "cell_type": "code",
   "execution_count": 1,
   "metadata": {
    "id": "wKYKOomDaroQ"
   },
   "outputs": [],
   "source": [
    "import matplotlib.pyplot as plt\n",
    "import numpy as np\n",
    "import pandas as pd\n",
    "\n",
    "import statsmodels.api as sm\n",
    "\n",
    "from sklearn.datasets import fetch_openml, fetch_california_housing\n",
    "from sklearn.linear_model import Ridge, LinearRegression\n",
    "from sklearn.preprocessing import StandardScaler\n",
    "from sklearn.pipeline import make_pipeline\n",
    "from sklearn.model_selection import train_test_split, GridSearchCV"
   ]
  },
  {
   "cell_type": "code",
   "execution_count": 2,
   "metadata": {
    "id": "S44MI8uJaroT"
   },
   "outputs": [],
   "source": [
    "survey = fetch_openml(data_id=534, as_frame=True)"
   ]
  },
  {
   "cell_type": "code",
   "execution_count": 3,
   "metadata": {
    "colab": {
     "base_uri": "https://localhost:8080/",
     "height": 390
    },
    "id": "hK4iLkLnaroW",
    "outputId": "237ea98e-8266-41c3-db4c-b0502bb3677e"
   },
   "outputs": [
    {
     "data": {
      "text/html": [
       "<div>\n",
       "<style scoped>\n",
       "    .dataframe tbody tr th:only-of-type {\n",
       "        vertical-align: middle;\n",
       "    }\n",
       "\n",
       "    .dataframe tbody tr th {\n",
       "        vertical-align: top;\n",
       "    }\n",
       "\n",
       "    .dataframe thead th {\n",
       "        text-align: right;\n",
       "    }\n",
       "</style>\n",
       "<table border=\"1\" class=\"dataframe\">\n",
       "  <thead>\n",
       "    <tr style=\"text-align: right;\">\n",
       "      <th></th>\n",
       "      <th>EDUCATION</th>\n",
       "      <th>SOUTH</th>\n",
       "      <th>SEX</th>\n",
       "      <th>EXPERIENCE</th>\n",
       "      <th>UNION</th>\n",
       "      <th>AGE</th>\n",
       "      <th>RACE</th>\n",
       "      <th>OCCUPATION</th>\n",
       "      <th>SECTOR</th>\n",
       "      <th>MARR</th>\n",
       "    </tr>\n",
       "  </thead>\n",
       "  <tbody>\n",
       "    <tr>\n",
       "      <th>count</th>\n",
       "      <td>534.000000</td>\n",
       "      <td>534</td>\n",
       "      <td>534</td>\n",
       "      <td>534.000000</td>\n",
       "      <td>534</td>\n",
       "      <td>534.000000</td>\n",
       "      <td>534</td>\n",
       "      <td>534</td>\n",
       "      <td>534</td>\n",
       "      <td>534</td>\n",
       "    </tr>\n",
       "    <tr>\n",
       "      <th>unique</th>\n",
       "      <td>NaN</td>\n",
       "      <td>2</td>\n",
       "      <td>2</td>\n",
       "      <td>NaN</td>\n",
       "      <td>2</td>\n",
       "      <td>NaN</td>\n",
       "      <td>3</td>\n",
       "      <td>6</td>\n",
       "      <td>3</td>\n",
       "      <td>2</td>\n",
       "    </tr>\n",
       "    <tr>\n",
       "      <th>top</th>\n",
       "      <td>NaN</td>\n",
       "      <td>no</td>\n",
       "      <td>male</td>\n",
       "      <td>NaN</td>\n",
       "      <td>not_member</td>\n",
       "      <td>NaN</td>\n",
       "      <td>White</td>\n",
       "      <td>Other</td>\n",
       "      <td>Other</td>\n",
       "      <td>Married</td>\n",
       "    </tr>\n",
       "    <tr>\n",
       "      <th>freq</th>\n",
       "      <td>NaN</td>\n",
       "      <td>378</td>\n",
       "      <td>289</td>\n",
       "      <td>NaN</td>\n",
       "      <td>438</td>\n",
       "      <td>NaN</td>\n",
       "      <td>440</td>\n",
       "      <td>156</td>\n",
       "      <td>411</td>\n",
       "      <td>350</td>\n",
       "    </tr>\n",
       "    <tr>\n",
       "      <th>mean</th>\n",
       "      <td>13.018727</td>\n",
       "      <td>NaN</td>\n",
       "      <td>NaN</td>\n",
       "      <td>17.822097</td>\n",
       "      <td>NaN</td>\n",
       "      <td>36.833333</td>\n",
       "      <td>NaN</td>\n",
       "      <td>NaN</td>\n",
       "      <td>NaN</td>\n",
       "      <td>NaN</td>\n",
       "    </tr>\n",
       "    <tr>\n",
       "      <th>std</th>\n",
       "      <td>2.615373</td>\n",
       "      <td>NaN</td>\n",
       "      <td>NaN</td>\n",
       "      <td>12.379710</td>\n",
       "      <td>NaN</td>\n",
       "      <td>11.726573</td>\n",
       "      <td>NaN</td>\n",
       "      <td>NaN</td>\n",
       "      <td>NaN</td>\n",
       "      <td>NaN</td>\n",
       "    </tr>\n",
       "    <tr>\n",
       "      <th>min</th>\n",
       "      <td>2.000000</td>\n",
       "      <td>NaN</td>\n",
       "      <td>NaN</td>\n",
       "      <td>0.000000</td>\n",
       "      <td>NaN</td>\n",
       "      <td>18.000000</td>\n",
       "      <td>NaN</td>\n",
       "      <td>NaN</td>\n",
       "      <td>NaN</td>\n",
       "      <td>NaN</td>\n",
       "    </tr>\n",
       "    <tr>\n",
       "      <th>25%</th>\n",
       "      <td>12.000000</td>\n",
       "      <td>NaN</td>\n",
       "      <td>NaN</td>\n",
       "      <td>8.000000</td>\n",
       "      <td>NaN</td>\n",
       "      <td>28.000000</td>\n",
       "      <td>NaN</td>\n",
       "      <td>NaN</td>\n",
       "      <td>NaN</td>\n",
       "      <td>NaN</td>\n",
       "    </tr>\n",
       "    <tr>\n",
       "      <th>50%</th>\n",
       "      <td>12.000000</td>\n",
       "      <td>NaN</td>\n",
       "      <td>NaN</td>\n",
       "      <td>15.000000</td>\n",
       "      <td>NaN</td>\n",
       "      <td>35.000000</td>\n",
       "      <td>NaN</td>\n",
       "      <td>NaN</td>\n",
       "      <td>NaN</td>\n",
       "      <td>NaN</td>\n",
       "    </tr>\n",
       "    <tr>\n",
       "      <th>75%</th>\n",
       "      <td>15.000000</td>\n",
       "      <td>NaN</td>\n",
       "      <td>NaN</td>\n",
       "      <td>26.000000</td>\n",
       "      <td>NaN</td>\n",
       "      <td>44.000000</td>\n",
       "      <td>NaN</td>\n",
       "      <td>NaN</td>\n",
       "      <td>NaN</td>\n",
       "      <td>NaN</td>\n",
       "    </tr>\n",
       "    <tr>\n",
       "      <th>max</th>\n",
       "      <td>18.000000</td>\n",
       "      <td>NaN</td>\n",
       "      <td>NaN</td>\n",
       "      <td>55.000000</td>\n",
       "      <td>NaN</td>\n",
       "      <td>64.000000</td>\n",
       "      <td>NaN</td>\n",
       "      <td>NaN</td>\n",
       "      <td>NaN</td>\n",
       "      <td>NaN</td>\n",
       "    </tr>\n",
       "  </tbody>\n",
       "</table>\n",
       "</div>"
      ],
      "text/plain": [
       "         EDUCATION SOUTH   SEX  EXPERIENCE       UNION         AGE   RACE  \\\n",
       "count   534.000000   534   534  534.000000         534  534.000000    534   \n",
       "unique         NaN     2     2         NaN           2         NaN      3   \n",
       "top            NaN    no  male         NaN  not_member         NaN  White   \n",
       "freq           NaN   378   289         NaN         438         NaN    440   \n",
       "mean     13.018727   NaN   NaN   17.822097         NaN   36.833333    NaN   \n",
       "std       2.615373   NaN   NaN   12.379710         NaN   11.726573    NaN   \n",
       "min       2.000000   NaN   NaN    0.000000         NaN   18.000000    NaN   \n",
       "25%      12.000000   NaN   NaN    8.000000         NaN   28.000000    NaN   \n",
       "50%      12.000000   NaN   NaN   15.000000         NaN   35.000000    NaN   \n",
       "75%      15.000000   NaN   NaN   26.000000         NaN   44.000000    NaN   \n",
       "max      18.000000   NaN   NaN   55.000000         NaN   64.000000    NaN   \n",
       "\n",
       "       OCCUPATION SECTOR     MARR  \n",
       "count         534    534      534  \n",
       "unique          6      3        2  \n",
       "top         Other  Other  Married  \n",
       "freq          156    411      350  \n",
       "mean          NaN    NaN      NaN  \n",
       "std           NaN    NaN      NaN  \n",
       "min           NaN    NaN      NaN  \n",
       "25%           NaN    NaN      NaN  \n",
       "50%           NaN    NaN      NaN  \n",
       "75%           NaN    NaN      NaN  \n",
       "max           NaN    NaN      NaN  "
      ]
     },
     "execution_count": 3,
     "metadata": {},
     "output_type": "execute_result"
    }
   ],
   "source": [
    "X = survey.data[survey.feature_names]\n",
    "X.describe(include=\"all\")"
   ]
  },
  {
   "cell_type": "code",
   "execution_count": 4,
   "metadata": {
    "colab": {
     "base_uri": "https://localhost:8080/",
     "height": 119
    },
    "id": "X00Lnogqaroa",
    "outputId": "f10fe4c3-376f-47aa-b74d-80b8b08fdd2a"
   },
   "outputs": [
    {
     "data": {
      "text/plain": [
       "0    5.10\n",
       "1    4.95\n",
       "2    6.67\n",
       "3    4.00\n",
       "4    7.50\n",
       "Name: WAGE, dtype: float64"
      ]
     },
     "execution_count": 4,
     "metadata": {},
     "output_type": "execute_result"
    }
   ],
   "source": [
    "y = survey.target.values.ravel()\n",
    "survey.target.head()"
   ]
  },
  {
   "cell_type": "code",
   "execution_count": 5,
   "metadata": {
    "colab": {
     "base_uri": "https://localhost:8080/",
     "height": 111
    },
    "id": "kVNHFSWGaroc",
    "outputId": "4b10e156-c68e-49af-ac60-bd10e2012629"
   },
   "outputs": [
    {
     "data": {
      "text/html": [
       "<div>\n",
       "<style scoped>\n",
       "    .dataframe tbody tr th:only-of-type {\n",
       "        vertical-align: middle;\n",
       "    }\n",
       "\n",
       "    .dataframe tbody tr th {\n",
       "        vertical-align: top;\n",
       "    }\n",
       "\n",
       "    .dataframe thead th {\n",
       "        text-align: right;\n",
       "    }\n",
       "</style>\n",
       "<table border=\"1\" class=\"dataframe\">\n",
       "  <thead>\n",
       "    <tr style=\"text-align: right;\">\n",
       "      <th></th>\n",
       "      <th>EDUCATION</th>\n",
       "      <th>SOUTH</th>\n",
       "      <th>SEX</th>\n",
       "      <th>EXPERIENCE</th>\n",
       "      <th>UNION</th>\n",
       "      <th>AGE</th>\n",
       "      <th>RACE</th>\n",
       "      <th>OCCUPATION</th>\n",
       "      <th>SECTOR</th>\n",
       "      <th>MARR</th>\n",
       "    </tr>\n",
       "  </thead>\n",
       "  <tbody>\n",
       "    <tr>\n",
       "      <th>0</th>\n",
       "      <td>8.0</td>\n",
       "      <td>no</td>\n",
       "      <td>female</td>\n",
       "      <td>21.0</td>\n",
       "      <td>not_member</td>\n",
       "      <td>35.0</td>\n",
       "      <td>Hispanic</td>\n",
       "      <td>Other</td>\n",
       "      <td>Manufacturing</td>\n",
       "      <td>Married</td>\n",
       "    </tr>\n",
       "    <tr>\n",
       "      <th>1</th>\n",
       "      <td>9.0</td>\n",
       "      <td>no</td>\n",
       "      <td>female</td>\n",
       "      <td>42.0</td>\n",
       "      <td>not_member</td>\n",
       "      <td>57.0</td>\n",
       "      <td>White</td>\n",
       "      <td>Other</td>\n",
       "      <td>Manufacturing</td>\n",
       "      <td>Married</td>\n",
       "    </tr>\n",
       "  </tbody>\n",
       "</table>\n",
       "</div>"
      ],
      "text/plain": [
       "   EDUCATION SOUTH     SEX  EXPERIENCE       UNION   AGE      RACE OCCUPATION  \\\n",
       "0        8.0    no  female        21.0  not_member  35.0  Hispanic      Other   \n",
       "1        9.0    no  female        42.0  not_member  57.0     White      Other   \n",
       "\n",
       "          SECTOR     MARR  \n",
       "0  Manufacturing  Married  \n",
       "1  Manufacturing  Married  "
      ]
     },
     "execution_count": 5,
     "metadata": {},
     "output_type": "execute_result"
    }
   ],
   "source": [
    "X.head(2)"
   ]
  },
  {
   "cell_type": "markdown",
   "metadata": {
    "id": "TnW3VwfZbUOW"
   },
   "source": [
    "### Preparing the Data"
   ]
  },
  {
   "cell_type": "code",
   "execution_count": 6,
   "metadata": {
    "colab": {
     "base_uri": "https://localhost:8080/",
     "height": 306
    },
    "id": "IsfYNQ07bYRJ",
    "outputId": "704e5580-6491-4f0d-c72b-4fc263bcba16"
   },
   "outputs": [
    {
     "name": "stdout",
     "output_type": "stream",
     "text": [
      "<class 'pandas.core.frame.DataFrame'>\n",
      "RangeIndex: 534 entries, 0 to 533\n",
      "Data columns (total 10 columns):\n",
      " #   Column      Non-Null Count  Dtype   \n",
      "---  ------      --------------  -----   \n",
      " 0   EDUCATION   534 non-null    float64 \n",
      " 1   SOUTH       534 non-null    category\n",
      " 2   SEX         534 non-null    category\n",
      " 3   EXPERIENCE  534 non-null    float64 \n",
      " 4   UNION       534 non-null    category\n",
      " 5   AGE         534 non-null    float64 \n",
      " 6   RACE        534 non-null    category\n",
      " 7   OCCUPATION  534 non-null    category\n",
      " 8   SECTOR      534 non-null    category\n",
      " 9   MARR        534 non-null    category\n",
      "dtypes: category(7), float64(3)\n",
      "memory usage: 17.1 KB\n"
     ]
    }
   ],
   "source": [
    "X.info()"
   ]
  },
  {
   "cell_type": "code",
   "execution_count": 7,
   "metadata": {
    "id": "Q0zPEUZHbZTN"
   },
   "outputs": [],
   "source": [
    "X['SOUTH'] = np.where(X['SOUTH'] == 'no', 0, 1)"
   ]
  },
  {
   "cell_type": "code",
   "execution_count": 8,
   "metadata": {
    "colab": {
     "base_uri": "https://localhost:8080/",
     "height": 306
    },
    "id": "Q1TiXVSjbZX6",
    "outputId": "01ead2af-6689-4362-e58b-5708b3484ae4"
   },
   "outputs": [
    {
     "name": "stdout",
     "output_type": "stream",
     "text": [
      "<class 'pandas.core.frame.DataFrame'>\n",
      "RangeIndex: 534 entries, 0 to 533\n",
      "Data columns (total 10 columns):\n",
      " #   Column      Non-Null Count  Dtype   \n",
      "---  ------      --------------  -----   \n",
      " 0   EDUCATION   534 non-null    float64 \n",
      " 1   SOUTH       534 non-null    int64   \n",
      " 2   SEX         534 non-null    category\n",
      " 3   EXPERIENCE  534 non-null    float64 \n",
      " 4   UNION       534 non-null    category\n",
      " 5   AGE         534 non-null    float64 \n",
      " 6   RACE        534 non-null    category\n",
      " 7   OCCUPATION  534 non-null    category\n",
      " 8   SECTOR      534 non-null    category\n",
      " 9   MARR        534 non-null    category\n",
      "dtypes: category(6), float64(3), int64(1)\n",
      "memory usage: 20.6 KB\n"
     ]
    }
   ],
   "source": [
    "X.info()"
   ]
  },
  {
   "cell_type": "code",
   "execution_count": 9,
   "metadata": {
    "colab": {
     "base_uri": "https://localhost:8080/",
     "height": 68
    },
    "id": "Xa82W8eFbZkO",
    "outputId": "2bb6c602-b798-479e-d8e2-990d3e51cabc"
   },
   "outputs": [
    {
     "data": {
      "text/plain": [
       "not_member    438\n",
       "member         96\n",
       "Name: UNION, dtype: int64"
      ]
     },
     "execution_count": 9,
     "metadata": {},
     "output_type": "execute_result"
    }
   ],
   "source": [
    "X['UNION'].value_counts()"
   ]
  },
  {
   "cell_type": "code",
   "execution_count": 10,
   "metadata": {
    "id": "7R3Rhbh5bZph"
   },
   "outputs": [],
   "source": [
    "X = pd.get_dummies(X, drop_first=True)"
   ]
  },
  {
   "cell_type": "code",
   "execution_count": 11,
   "metadata": {
    "colab": {
     "base_uri": "https://localhost:8080/",
     "height": 408
    },
    "id": "UlLdZ1QWbZ0k",
    "outputId": "bb6a9e90-3a0f-462f-8c3b-e5dab91d2bb0"
   },
   "outputs": [
    {
     "name": "stdout",
     "output_type": "stream",
     "text": [
      "<class 'pandas.core.frame.DataFrame'>\n",
      "RangeIndex: 534 entries, 0 to 533\n",
      "Data columns (total 16 columns):\n",
      " #   Column                   Non-Null Count  Dtype  \n",
      "---  ------                   --------------  -----  \n",
      " 0   EDUCATION                534 non-null    float64\n",
      " 1   SOUTH                    534 non-null    int64  \n",
      " 2   EXPERIENCE               534 non-null    float64\n",
      " 3   AGE                      534 non-null    float64\n",
      " 4   SEX_male                 534 non-null    uint8  \n",
      " 5   UNION_not_member         534 non-null    uint8  \n",
      " 6   RACE_Other               534 non-null    uint8  \n",
      " 7   RACE_White               534 non-null    uint8  \n",
      " 8   OCCUPATION_Management    534 non-null    uint8  \n",
      " 9   OCCUPATION_Other         534 non-null    uint8  \n",
      " 10  OCCUPATION_Professional  534 non-null    uint8  \n",
      " 11  OCCUPATION_Sales         534 non-null    uint8  \n",
      " 12  OCCUPATION_Service       534 non-null    uint8  \n",
      " 13  SECTOR_Manufacturing     534 non-null    uint8  \n",
      " 14  SECTOR_Other             534 non-null    uint8  \n",
      " 15  MARR_Unmarried           534 non-null    uint8  \n",
      "dtypes: float64(3), int64(1), uint8(12)\n",
      "memory usage: 23.1 KB\n"
     ]
    }
   ],
   "source": [
    "X.info()"
   ]
  },
  {
   "cell_type": "code",
   "execution_count": 12,
   "metadata": {
    "id": "drAFvqExbZnO"
   },
   "outputs": [],
   "source": [
    "model = sm.OLS(y, X).fit()"
   ]
  },
  {
   "cell_type": "code",
   "execution_count": 13,
   "metadata": {
    "colab": {
     "base_uri": "https://localhost:8080/",
     "height": 738
    },
    "id": "E8KSZnr7bZZ7",
    "outputId": "cd47a634-1547-4321-d1a2-c5cc1e4c464e"
   },
   "outputs": [
    {
     "data": {
      "text/html": [
       "<table class=\"simpletable\">\n",
       "<caption>OLS Regression Results</caption>\n",
       "<tr>\n",
       "  <th>Dep. Variable:</th>            <td>y</td>        <th>  R-squared (uncentered):</th>      <td>   0.835</td> \n",
       "</tr>\n",
       "<tr>\n",
       "  <th>Model:</th>                   <td>OLS</td>       <th>  Adj. R-squared (uncentered):</th> <td>   0.830</td> \n",
       "</tr>\n",
       "<tr>\n",
       "  <th>Method:</th>             <td>Least Squares</td>  <th>  F-statistic:       </th>          <td>   164.2</td> \n",
       "</tr>\n",
       "<tr>\n",
       "  <th>Date:</th>             <td>Fri, 02 Oct 2020</td> <th>  Prob (F-statistic):</th>          <td>6.60e-191</td>\n",
       "</tr>\n",
       "<tr>\n",
       "  <th>Time:</th>                 <td>09:43:07</td>     <th>  Log-Likelihood:    </th>          <td> -1525.8</td> \n",
       "</tr>\n",
       "<tr>\n",
       "  <th>No. Observations:</th>      <td>   534</td>      <th>  AIC:               </th>          <td>   3084.</td> \n",
       "</tr>\n",
       "<tr>\n",
       "  <th>Df Residuals:</th>          <td>   518</td>      <th>  BIC:               </th>          <td>   3152.</td> \n",
       "</tr>\n",
       "<tr>\n",
       "  <th>Df Model:</th>              <td>    16</td>      <th>                     </th>              <td> </td>    \n",
       "</tr>\n",
       "<tr>\n",
       "  <th>Covariance Type:</th>      <td>nonrobust</td>    <th>                     </th>              <td> </td>    \n",
       "</tr>\n",
       "</table>\n",
       "<table class=\"simpletable\">\n",
       "<tr>\n",
       "             <td></td>                <th>coef</th>     <th>std err</th>      <th>t</th>      <th>P>|t|</th>  <th>[0.025</th>    <th>0.975]</th>  \n",
       "</tr>\n",
       "<tr>\n",
       "  <th>EDUCATION</th>               <td>    0.8611</td> <td>    0.387</td> <td>    2.228</td> <td> 0.026</td> <td>    0.102</td> <td>    1.620</td>\n",
       "</tr>\n",
       "<tr>\n",
       "  <th>SOUTH</th>                   <td>   -0.5633</td> <td>    0.419</td> <td>   -1.343</td> <td> 0.180</td> <td>   -1.387</td> <td>    0.260</td>\n",
       "</tr>\n",
       "<tr>\n",
       "  <th>EXPERIENCE</th>              <td>    0.2939</td> <td>    0.324</td> <td>    0.907</td> <td> 0.365</td> <td>   -0.343</td> <td>    0.931</td>\n",
       "</tr>\n",
       "<tr>\n",
       "  <th>AGE</th>                     <td>   -0.2072</td> <td>    0.316</td> <td>   -0.656</td> <td> 0.512</td> <td>   -0.828</td> <td>    0.413</td>\n",
       "</tr>\n",
       "<tr>\n",
       "  <th>SEX_male</th>                <td>    1.9431</td> <td>    0.419</td> <td>    4.639</td> <td> 0.000</td> <td>    1.120</td> <td>    2.766</td>\n",
       "</tr>\n",
       "<tr>\n",
       "  <th>UNION_not_member</th>        <td>   -1.6039</td> <td>    0.510</td> <td>   -3.144</td> <td> 0.002</td> <td>   -2.606</td> <td>   -0.602</td>\n",
       "</tr>\n",
       "<tr>\n",
       "  <th>RACE_Other</th>              <td>   -0.2356</td> <td>    0.987</td> <td>   -0.239</td> <td> 0.811</td> <td>   -2.174</td> <td>    1.702</td>\n",
       "</tr>\n",
       "<tr>\n",
       "  <th>RACE_White</th>              <td>    0.6023</td> <td>    0.864</td> <td>    0.697</td> <td> 0.486</td> <td>   -1.096</td> <td>    2.300</td>\n",
       "</tr>\n",
       "<tr>\n",
       "  <th>OCCUPATION_Management</th>   <td>    3.2680</td> <td>    0.762</td> <td>    4.289</td> <td> 0.000</td> <td>    1.771</td> <td>    4.765</td>\n",
       "</tr>\n",
       "<tr>\n",
       "  <th>OCCUPATION_Other</th>        <td>   -0.0269</td> <td>    0.678</td> <td>   -0.040</td> <td> 0.968</td> <td>   -1.360</td> <td>    1.306</td>\n",
       "</tr>\n",
       "<tr>\n",
       "  <th>OCCUPATION_Professional</th> <td>    1.9328</td> <td>    0.669</td> <td>    2.890</td> <td> 0.004</td> <td>    0.619</td> <td>    3.247</td>\n",
       "</tr>\n",
       "<tr>\n",
       "  <th>OCCUPATION_Sales</th>        <td>   -0.7968</td> <td>    0.837</td> <td>   -0.952</td> <td> 0.342</td> <td>   -2.441</td> <td>    0.847</td>\n",
       "</tr>\n",
       "<tr>\n",
       "  <th>OCCUPATION_Service</th>      <td>   -0.7097</td> <td>    0.660</td> <td>   -1.075</td> <td> 0.283</td> <td>   -2.007</td> <td>    0.588</td>\n",
       "</tr>\n",
       "<tr>\n",
       "  <th>SECTOR_Manufacturing</th>    <td>    0.5585</td> <td>    0.985</td> <td>    0.567</td> <td> 0.571</td> <td>   -1.376</td> <td>    2.493</td>\n",
       "</tr>\n",
       "<tr>\n",
       "  <th>SECTOR_Other</th>            <td>   -0.4838</td> <td>    0.956</td> <td>   -0.506</td> <td> 0.613</td> <td>   -2.361</td> <td>    1.394</td>\n",
       "</tr>\n",
       "<tr>\n",
       "  <th>MARR_Unmarried</th>          <td>   -0.3021</td> <td>    0.410</td> <td>   -0.738</td> <td> 0.461</td> <td>   -1.107</td> <td>    0.502</td>\n",
       "</tr>\n",
       "</table>\n",
       "<table class=\"simpletable\">\n",
       "<tr>\n",
       "  <th>Omnibus:</th>       <td>244.106</td> <th>  Durbin-Watson:     </th> <td>   2.010</td>\n",
       "</tr>\n",
       "<tr>\n",
       "  <th>Prob(Omnibus):</th> <td> 0.000</td>  <th>  Jarque-Bera (JB):  </th> <td>2321.413</td>\n",
       "</tr>\n",
       "<tr>\n",
       "  <th>Skew:</th>          <td> 1.757</td>  <th>  Prob(JB):          </th> <td>    0.00</td>\n",
       "</tr>\n",
       "<tr>\n",
       "  <th>Kurtosis:</th>      <td>12.591</td>  <th>  Cond. No.          </th> <td>    335.</td>\n",
       "</tr>\n",
       "</table><br/><br/>Warnings:<br/>[1] Standard Errors assume that the covariance matrix of the errors is correctly specified."
      ],
      "text/plain": [
       "<class 'statsmodels.iolib.summary.Summary'>\n",
       "\"\"\"\n",
       "                                 OLS Regression Results                                \n",
       "=======================================================================================\n",
       "Dep. Variable:                      y   R-squared (uncentered):                   0.835\n",
       "Model:                            OLS   Adj. R-squared (uncentered):              0.830\n",
       "Method:                 Least Squares   F-statistic:                              164.2\n",
       "Date:                Fri, 02 Oct 2020   Prob (F-statistic):                   6.60e-191\n",
       "Time:                        09:43:07   Log-Likelihood:                         -1525.8\n",
       "No. Observations:                 534   AIC:                                      3084.\n",
       "Df Residuals:                     518   BIC:                                      3152.\n",
       "Df Model:                          16                                                  \n",
       "Covariance Type:            nonrobust                                                  \n",
       "===========================================================================================\n",
       "                              coef    std err          t      P>|t|      [0.025      0.975]\n",
       "-------------------------------------------------------------------------------------------\n",
       "EDUCATION                   0.8611      0.387      2.228      0.026       0.102       1.620\n",
       "SOUTH                      -0.5633      0.419     -1.343      0.180      -1.387       0.260\n",
       "EXPERIENCE                  0.2939      0.324      0.907      0.365      -0.343       0.931\n",
       "AGE                        -0.2072      0.316     -0.656      0.512      -0.828       0.413\n",
       "SEX_male                    1.9431      0.419      4.639      0.000       1.120       2.766\n",
       "UNION_not_member           -1.6039      0.510     -3.144      0.002      -2.606      -0.602\n",
       "RACE_Other                 -0.2356      0.987     -0.239      0.811      -2.174       1.702\n",
       "RACE_White                  0.6023      0.864      0.697      0.486      -1.096       2.300\n",
       "OCCUPATION_Management       3.2680      0.762      4.289      0.000       1.771       4.765\n",
       "OCCUPATION_Other           -0.0269      0.678     -0.040      0.968      -1.360       1.306\n",
       "OCCUPATION_Professional     1.9328      0.669      2.890      0.004       0.619       3.247\n",
       "OCCUPATION_Sales           -0.7968      0.837     -0.952      0.342      -2.441       0.847\n",
       "OCCUPATION_Service         -0.7097      0.660     -1.075      0.283      -2.007       0.588\n",
       "SECTOR_Manufacturing        0.5585      0.985      0.567      0.571      -1.376       2.493\n",
       "SECTOR_Other               -0.4838      0.956     -0.506      0.613      -2.361       1.394\n",
       "MARR_Unmarried             -0.3021      0.410     -0.738      0.461      -1.107       0.502\n",
       "==============================================================================\n",
       "Omnibus:                      244.106   Durbin-Watson:                   2.010\n",
       "Prob(Omnibus):                  0.000   Jarque-Bera (JB):             2321.413\n",
       "Skew:                           1.757   Prob(JB):                         0.00\n",
       "Kurtosis:                      12.591   Cond. No.                         335.\n",
       "==============================================================================\n",
       "\n",
       "Warnings:\n",
       "[1] Standard Errors assume that the covariance matrix of the errors is correctly specified.\n",
       "\"\"\""
      ]
     },
     "execution_count": 13,
     "metadata": {},
     "output_type": "execute_result"
    }
   ],
   "source": [
    "model.summary()"
   ]
  },
  {
   "cell_type": "code",
   "execution_count": null,
   "metadata": {
    "id": "OPgt7lAFbZVg"
   },
   "outputs": [],
   "source": []
  },
  {
   "cell_type": "markdown",
   "metadata": {
    "id": "8LWoR21DbZQ8"
   },
   "source": [
    "### Building the Model"
   ]
  },
  {
   "cell_type": "code",
   "execution_count": 14,
   "metadata": {
    "id": "wpYl2N89bc70"
   },
   "outputs": [],
   "source": [
    "#make a train/test split -- evaluation\n",
    "X_train, X_test, y_train, y_test = train_test_split(X, y, random_state = 22)"
   ]
  },
  {
   "cell_type": "code",
   "execution_count": 15,
   "metadata": {
    "colab": {
     "base_uri": "https://localhost:8080/",
     "height": 51
    },
    "id": "Vnt99L5Ibd1W",
    "outputId": "2b9a9176-b7df-4b98-c98a-504e5dc3c73d"
   },
   "outputs": [
    {
     "name": "stdout",
     "output_type": "stream",
     "text": [
      "The training data scored: 0.33370623324356696\n",
      "The test data scored: 0.24613560246486088\n"
     ]
    }
   ],
   "source": [
    "X_train, X_test, y_train, y_test = train_test_split(X, y, random_state = 22)\n",
    "#instantiate\n",
    "lr = LinearRegression()\n",
    "#fit on the train\n",
    "lr.fit(X_train, y_train)\n",
    "#score on train and test\n",
    "print(f'The training data scored: {lr.score(X_train, y_train)}')\n",
    "print(f'The test data scored: {lr.score(X_test, y_test)}')"
   ]
  },
  {
   "cell_type": "code",
   "execution_count": 16,
   "metadata": {
    "colab": {
     "base_uri": "https://localhost:8080/",
     "height": 35
    },
    "id": "YKJTmSDzbd52",
    "outputId": "3884cddb-4f86-45ab-a217-80c4f5874a03"
   },
   "outputs": [
    {
     "data": {
      "text/plain": [
       "'This has a variable 9.01126865671642'"
      ]
     },
     "execution_count": 16,
     "metadata": {},
     "output_type": "execute_result"
    }
   ],
   "source": [
    "f'This has a variable {np.mean(y_test)}'"
   ]
  },
  {
   "cell_type": "code",
   "execution_count": 17,
   "metadata": {
    "id": "kwvPsk36beDG"
   },
   "outputs": [],
   "source": [
    "unscaled_features = pd.DataFrame({'features': X.columns, 'coefs': lr.coef_})"
   ]
  },
  {
   "cell_type": "code",
   "execution_count": 18,
   "metadata": {
    "id": "H7F69gEEbeI1"
   },
   "outputs": [],
   "source": [
    "#scale our data\n",
    "sscaler = StandardScaler()\n",
    "\n",
    "#fit only the training data\n",
    "X_train_scaled = sscaler.fit_transform(X_train)\n",
    "#transform the test data\n",
    "X_test_scaled = sscaler.transform(X_test)"
   ]
  },
  {
   "cell_type": "code",
   "execution_count": 19,
   "metadata": {
    "id": "7gC7jilrbeVN"
   },
   "outputs": [],
   "source": [
    "lr2 = LinearRegression()\n",
    "lr2.fit(X_train_scaled, y_train)\n",
    "scaled_features = pd.DataFrame({'features': X.columns, 'coefs': lr2.coef_})"
   ]
  },
  {
   "cell_type": "code",
   "execution_count": 20,
   "metadata": {
    "id": "h0NqI5p-nxSe"
   },
   "outputs": [],
   "source": [
    "plt.style.use('seaborn-darkgrid')"
   ]
  },
  {
   "cell_type": "code",
   "execution_count": 21,
   "metadata": {
    "colab": {
     "base_uri": "https://localhost:8080/",
     "height": 442
    },
    "id": "tujTrKXcbeF2",
    "outputId": "31df5ea9-6f01-4174-ab88-2b57ab13076d"
   },
   "outputs": [
    {
     "data": {
      "text/plain": [
       "<BarContainer object of 16 artists>"
      ]
     },
     "execution_count": 21,
     "metadata": {},
     "output_type": "execute_result"
    },
    {
     "data": {
      "image/png": "[encoded data removed]",
      "text/plain": [
       "<Figure size 1440x504 with 2 Axes>"
      ]
     },
     "metadata": {},
     "output_type": "display_data"
    }
   ],
   "source": [
    "plt.style.use('seaborn-darkgrid')\n",
    "fig, ax = plt.subplots(1, 2, figsize = (20, 7))\n",
    "ax[0].barh(unscaled_features['features'], abs(unscaled_features['coefs']))\n",
    "ax[1].barh(scaled_features['features'], abs(scaled_features['coefs']))\n",
    "#scaled_features"
   ]
  },
  {
   "cell_type": "code",
   "execution_count": 22,
   "metadata": {
    "colab": {
     "base_uri": "https://localhost:8080/",
     "height": 34
    },
    "id": "11cyzWTpbd8K",
    "outputId": "fceb9598-5ee0-4765-87c5-418f6822bccc"
   },
   "outputs": [
    {
     "data": {
      "text/plain": [
       "0.3336514791431666"
      ]
     },
     "execution_count": 22,
     "metadata": {},
     "output_type": "execute_result"
    }
   ],
   "source": [
    "ridge = Ridge()\n",
    "ridge.fit(X_train_scaled, y_train)\n",
    "ridge.score(X_train_scaled, y_train)"
   ]
  },
  {
   "cell_type": "code",
   "execution_count": 23,
   "metadata": {
    "colab": {
     "base_uri": "https://localhost:8080/",
     "height": 34
    },
    "id": "sfM9qgjjbd3v",
    "outputId": "9ab2733d-364e-4efa-f990-4b42fb9bc416"
   },
   "outputs": [
    {
     "data": {
      "text/plain": [
       "0.24701803579424098"
      ]
     },
     "execution_count": 23,
     "metadata": {},
     "output_type": "execute_result"
    }
   ],
   "source": [
    "ridge.score(X_test_scaled, y_test)"
   ]
  },
  {
   "cell_type": "code",
   "execution_count": 24,
   "metadata": {
    "id": "OzzMOK8abdzF"
   },
   "outputs": [],
   "source": [
    "ridge_features = pd.DataFrame({'features': X.columns, 'coefs': ridge.coef_})"
   ]
  },
  {
   "cell_type": "code",
   "execution_count": 25,
   "metadata": {
    "colab": {
     "base_uri": "https://localhost:8080/",
     "height": 279
    },
    "id": "ujGcUD-2pUlA",
    "outputId": "4eb6feba-b367-45db-e36e-f216c8ce0b59"
   },
   "outputs": [
    {
     "data": {
      "text/plain": [
       "<BarContainer object of 16 artists>"
      ]
     },
     "execution_count": 25,
     "metadata": {},
     "output_type": "execute_result"
    },
    {
     "data": {
      "image/png": "[encoded data removed]",
      "text/plain": [
       "<Figure size 432x288 with 1 Axes>"
      ]
     },
     "metadata": {},
     "output_type": "display_data"
    }
   ],
   "source": [
    "plt.barh(ridge_features.features, ridge_features.coefs)"
   ]
  },
  {
   "cell_type": "code",
   "execution_count": 26,
   "metadata": {
    "colab": {
     "base_uri": "https://localhost:8080/",
     "height": 34
    },
    "id": "kppDrso7pkah",
    "outputId": "a308a972-bd9b-4e09-eb87-a0f9f865e3b5"
   },
   "outputs": [
    {
     "data": {
      "text/plain": [
       "0.2873734441786736"
      ]
     },
     "execution_count": 26,
     "metadata": {},
     "output_type": "execute_result"
    }
   ],
   "source": [
    "sscaler = StandardScaler()\n",
    "ridge = Ridge(alpha=100.0)\n",
    "pipe = make_pipeline(sscaler, ridge)\n",
    "pipe.fit(X_train, y_train)\n",
    "pipe.score(X_test, y_test)"
   ]
  },
  {
   "cell_type": "code",
   "execution_count": 27,
   "metadata": {
    "id": "-4VnzQrcpkeI"
   },
   "outputs": [],
   "source": [
    "pipe = make_pipeline(sscaler, ridge)"
   ]
  },
  {
   "cell_type": "code",
   "execution_count": 28,
   "metadata": {
    "colab": {
     "base_uri": "https://localhost:8080/",
     "height": 153
    },
    "id": "ZLGOv14Bpkje",
    "outputId": "956e378b-e079-4bfe-8db5-d2d517215b2f"
   },
   "outputs": [
    {
     "data": {
      "text/plain": [
       "Pipeline(steps=[('standardscaler', StandardScaler()),\n",
       "                ('ridge', Ridge(alpha=100.0))])"
      ]
     },
     "execution_count": 28,
     "metadata": {},
     "output_type": "execute_result"
    }
   ],
   "source": [
    "pipe.fit(X_train, y_train)"
   ]
  },
  {
   "cell_type": "code",
   "execution_count": 29,
   "metadata": {
    "colab": {
     "base_uri": "https://localhost:8080/",
     "height": 34
    },
    "id": "KgV1lJPfpkXS",
    "outputId": "6afd50a7-8e13-4979-8beb-171d59d1f601"
   },
   "outputs": [
    {
     "data": {
      "text/plain": [
       "0.2873734441786736"
      ]
     },
     "execution_count": 29,
     "metadata": {},
     "output_type": "execute_result"
    }
   ],
   "source": [
    "pipe.score(X_test, y_test)"
   ]
  },
  {
   "cell_type": "code",
   "execution_count": 30,
   "metadata": {
    "colab": {
     "base_uri": "https://localhost:8080/",
     "height": 34
    },
    "id": "of_fvwb6qFLM",
    "outputId": "2f706048-ee12-4651-9ae5-8cd20f2a4fce"
   },
   "outputs": [
    {
     "data": {
      "text/plain": [
       "0.24613560246486088"
      ]
     },
     "execution_count": 30,
     "metadata": {},
     "output_type": "execute_result"
    }
   ],
   "source": [
    "lr.score(X_test, y_test)"
   ]
  },
  {
   "cell_type": "markdown",
   "metadata": {
    "id": "PI6EDbtIbgL8"
   },
   "source": [
    "### Polynomial Features"
   ]
  },
  {
   "cell_type": "code",
   "execution_count": 31,
   "metadata": {},
   "outputs": [],
   "source": [
    "from sklearn.preprocessing import PolynomialFeatures"
   ]
  },
  {
   "cell_type": "code",
   "execution_count": 32,
   "metadata": {
    "id": "jTa_drcubk2c"
   },
   "outputs": [],
   "source": [
    "poly_features = PolynomialFeatures()"
   ]
  },
  {
   "cell_type": "code",
   "execution_count": 39,
   "metadata": {},
   "outputs": [],
   "source": [
    "#X"
   ]
  },
  {
   "cell_type": "code",
   "execution_count": 34,
   "metadata": {
    "id": "TYc8B-GtblvL"
   },
   "outputs": [
    {
     "data": {
      "text/plain": [
       "array([[ 1.,  8.,  0., ...,  0.,  0.,  0.],\n",
       "       [ 1.,  9.,  0., ...,  0.,  0.,  0.],\n",
       "       [ 1., 12.,  0., ...,  0.,  0.,  1.],\n",
       "       ...,\n",
       "       [ 1., 17.,  0., ...,  1.,  0.,  0.],\n",
       "       [ 1., 12.,  1., ...,  1.,  0.,  0.],\n",
       "       [ 1., 16.,  0., ...,  0.,  0.,  0.]])"
      ]
     },
     "execution_count": 34,
     "metadata": {},
     "output_type": "execute_result"
    }
   ],
   "source": [
    "poly_features.fit_transform(X)"
   ]
  },
  {
   "cell_type": "code",
   "execution_count": 35,
   "metadata": {
    "id": "_j9pTxeUbl0j"
   },
   "outputs": [],
   "source": [
    "x2 = np.array([[2, 3, 5],[1, 2, 3], [1, 1, 3]])"
   ]
  },
  {
   "cell_type": "code",
   "execution_count": 36,
   "metadata": {
    "id": "76irlmwnbmD2"
   },
   "outputs": [
    {
     "data": {
      "text/plain": [
       "array([[2, 3, 5],\n",
       "       [1, 2, 3],\n",
       "       [1, 1, 3]])"
      ]
     },
     "execution_count": 36,
     "metadata": {},
     "output_type": "execute_result"
    }
   ],
   "source": [
    "x2"
   ]
  },
  {
   "cell_type": "code",
   "execution_count": 38,
   "metadata": {
    "id": "UI8wv2rhbl2d"
   },
   "outputs": [
    {
     "data": {
      "text/plain": [
       "array([[ 1.,  2.,  3.,  5.,  4.,  6., 10.,  9., 15., 25.],\n",
       "       [ 1.,  1.,  2.,  3.,  1.,  2.,  3.,  4.,  6.,  9.],\n",
       "       [ 1.,  1.,  1.,  3.,  1.,  1.,  3.,  1.,  3.,  9.]])"
      ]
     },
     "execution_count": 38,
     "metadata": {},
     "output_type": "execute_result"
    }
   ],
   "source": [
    "poly_features.fit_transform(x2)"
   ]
  },
  {
   "cell_type": "code",
   "execution_count": 40,
   "metadata": {
    "id": "u34WEMUbblx2"
   },
   "outputs": [],
   "source": [
    "Xt = poly_features.fit_transform(X)"
   ]
  },
  {
   "cell_type": "code",
   "execution_count": 41,
   "metadata": {
    "id": "KHiolEZOblsv"
   },
   "outputs": [],
   "source": [
    "lr = LinearRegression()"
   ]
  },
  {
   "cell_type": "code",
   "execution_count": 42,
   "metadata": {},
   "outputs": [
    {
     "data": {
      "text/plain": [
       "LinearRegression()"
      ]
     },
     "execution_count": 42,
     "metadata": {},
     "output_type": "execute_result"
    }
   ],
   "source": [
    "lr.fit(Xt, y)"
   ]
  },
  {
   "cell_type": "code",
   "execution_count": 44,
   "metadata": {},
   "outputs": [
    {
     "data": {
      "text/plain": [
       "0.45489663073201303"
      ]
     },
     "execution_count": 44,
     "metadata": {},
     "output_type": "execute_result"
    }
   ],
   "source": [
    "lr.score(Xt, y)"
   ]
  },
  {
   "cell_type": "markdown",
   "metadata": {
    "id": "xd_UQyXsbmsh"
   },
   "source": [
    "### Scale Data for Ridge"
   ]
  },
  {
   "cell_type": "code",
   "execution_count": 45,
   "metadata": {
    "id": "PsBxHtbvbq6_"
   },
   "outputs": [],
   "source": [
    "sscaler = StandardScaler()"
   ]
  },
  {
   "cell_type": "code",
   "execution_count": 49,
   "metadata": {},
   "outputs": [],
   "source": [
    "ridge = Ridge()"
   ]
  },
  {
   "cell_type": "code",
   "execution_count": 50,
   "metadata": {
    "id": "9ZLSFv8WbrmI"
   },
   "outputs": [],
   "source": [
    "X_train_scaled = sscaler.fit_transform(X_train)"
   ]
  },
  {
   "cell_type": "code",
   "execution_count": 51,
   "metadata": {
    "id": "7I35lqvObrtr"
   },
   "outputs": [],
   "source": [
    "X_test_scaled = sscaler.transform(X_test)"
   ]
  },
  {
   "cell_type": "code",
   "execution_count": 53,
   "metadata": {
    "id": "rWr1SdSmbr8q"
   },
   "outputs": [
    {
     "data": {
      "text/plain": [
       "Ridge()"
      ]
     },
     "execution_count": 53,
     "metadata": {},
     "output_type": "execute_result"
    }
   ],
   "source": [
    "ridge.fit(X_train_scaled, y_train)"
   ]
  },
  {
   "cell_type": "code",
   "execution_count": 54,
   "metadata": {
    "id": "LFBGD9uFbryM"
   },
   "outputs": [
    {
     "data": {
      "text/plain": [
       "0.3336514791431666"
      ]
     },
     "execution_count": 54,
     "metadata": {},
     "output_type": "execute_result"
    }
   ],
   "source": [
    "ridge.score(X_train_scaled, y_train)"
   ]
  },
  {
   "cell_type": "code",
   "execution_count": 55,
   "metadata": {
    "id": "_pl1dpKwbrp5"
   },
   "outputs": [
    {
     "data": {
      "text/plain": [
       "0.24701803579424098"
      ]
     },
     "execution_count": 55,
     "metadata": {},
     "output_type": "execute_result"
    }
   ],
   "source": [
    "ridge.score(X_test_scaled, y_test)"
   ]
  },
  {
   "cell_type": "markdown",
   "metadata": {
    "id": "GcFaXAmhbriN"
   },
   "source": [
    "### Fit a Ridge\n",
    "\n",
    "- Polynomial Features make it better -- how many?!\n",
    "- What's the right alpha"
   ]
  },
  {
   "cell_type": "code",
   "execution_count": 56,
   "metadata": {
    "id": "1YsUe1xHbvqx"
   },
   "outputs": [],
   "source": [
    "poly_features = PolynomialFeatures()\n",
    "sscaler = StandardScaler()\n",
    "ridge = Ridge()"
   ]
  },
  {
   "cell_type": "code",
   "execution_count": 57,
   "metadata": {
    "id": "xvYmlN_tbwm0"
   },
   "outputs": [],
   "source": [
    "pipe = make_pipeline(poly_features, sscaler, ridge)"
   ]
  },
  {
   "cell_type": "code",
   "execution_count": 58,
   "metadata": {
    "id": "mZywbcblbwt2"
   },
   "outputs": [
    {
     "data": {
      "text/plain": [
       "Pipeline(steps=[('polynomialfeatures', PolynomialFeatures()),\n",
       "                ('standardscaler', StandardScaler()), ('ridge', Ridge())])"
      ]
     },
     "execution_count": 58,
     "metadata": {},
     "output_type": "execute_result"
    }
   ],
   "source": [
    "pipe.fit(X_train, y_train)"
   ]
  },
  {
   "cell_type": "code",
   "execution_count": 59,
   "metadata": {
    "id": "DNBln2j5bwxe"
   },
   "outputs": [
    {
     "data": {
      "text/plain": [
       "0.49829820149888626"
      ]
     },
     "execution_count": 59,
     "metadata": {},
     "output_type": "execute_result"
    }
   ],
   "source": [
    "pipe.score(X_train, y_train)"
   ]
  },
  {
   "cell_type": "code",
   "execution_count": 60,
   "metadata": {
    "id": "cZ1MpGXcbwpS"
   },
   "outputs": [
    {
     "data": {
      "text/plain": [
       "-0.12132474331011611"
      ]
     },
     "execution_count": 60,
     "metadata": {},
     "output_type": "execute_result"
    }
   ],
   "source": [
    "pipe.score(X_test, y_test)"
   ]
  },
  {
   "cell_type": "markdown",
   "metadata": {
    "id": "Ft2jXKXCbwka"
   },
   "source": [
    "### Determine Ideal Hyperparameter"
   ]
  },
  {
   "cell_type": "code",
   "execution_count": 61,
   "metadata": {
    "id": "W0-mb5cfb0UA"
   },
   "outputs": [],
   "source": [
    "params = {'polynomialfeatures__degree': [1, 2],\n",
    "         'ridge__alpha': [0.01, 1.0, 10.0, 100.0, 1000.0]}"
   ]
  },
  {
   "cell_type": "code",
   "execution_count": 62,
   "metadata": {},
   "outputs": [],
   "source": [
    "grid = GridSearchCV(pipe, param_grid=params)"
   ]
  },
  {
   "cell_type": "code",
   "execution_count": 63,
   "metadata": {},
   "outputs": [
    {
     "data": {
      "text/plain": [
       "GridSearchCV(estimator=Pipeline(steps=[('polynomialfeatures',\n",
       "                                        PolynomialFeatures()),\n",
       "                                       ('standardscaler', StandardScaler()),\n",
       "                                       ('ridge', Ridge())]),\n",
       "             param_grid={'polynomialfeatures__degree': [1, 2],\n",
       "                         'ridge__alpha': [0.01, 1.0, 10.0, 100.0, 1000.0]})"
      ]
     },
     "execution_count": 63,
     "metadata": {},
     "output_type": "execute_result"
    }
   ],
   "source": [
    "grid.fit(X_train, y_train)"
   ]
  },
  {
   "cell_type": "code",
   "execution_count": 64,
   "metadata": {},
   "outputs": [
    {
     "data": {
      "text/plain": [
       "{'polynomialfeatures__degree': 1, 'ridge__alpha': 100.0}"
      ]
     },
     "execution_count": 64,
     "metadata": {},
     "output_type": "execute_result"
    }
   ],
   "source": [
    "grid.best_params_"
   ]
  },
  {
   "cell_type": "code",
   "execution_count": 65,
   "metadata": {},
   "outputs": [
    {
     "data": {
      "text/plain": [
       "0.32469828365764897"
      ]
     },
     "execution_count": 65,
     "metadata": {},
     "output_type": "execute_result"
    }
   ],
   "source": [
    "grid.score(X_train, y_train)"
   ]
  },
  {
   "cell_type": "code",
   "execution_count": 66,
   "metadata": {},
   "outputs": [
    {
     "data": {
      "text/plain": [
       "0.2873734441786736"
      ]
     },
     "execution_count": 66,
     "metadata": {},
     "output_type": "execute_result"
    }
   ],
   "source": [
    "grid.score(X_test, y_test)"
   ]
  },
  {
   "cell_type": "code",
   "execution_count": 67,
   "metadata": {},
   "outputs": [
    {
     "name": "stdout",
     "output_type": "stream",
     "text": [
      "\u001b[34m.\u001b[m\u001b[m                    \u001b[34m.ipynb_checkpoints\u001b[m\u001b[m   week_2.ipynb\n",
      "\u001b[34m..\u001b[m\u001b[m                   regression_big.ipynb\n",
      "\u001b[34m.git\u001b[m\u001b[m                 week1.ipynb\n"
     ]
    }
   ],
   "source": [
    "!ls -a"
   ]
  },
  {
   "cell_type": "code",
   "execution_count": null,
   "metadata": {},
   "outputs": [],
   "source": []
  }
 ],
 "metadata": {
  "colab": {
   "collapsed_sections": [],
   "name": "regression_big.ipynb",
   "provenance": []
  },
  "kernelspec": {
   "display_name": "Python 3",
   "language": "python",
   "name": "python3"
  },
  "language_info": {
   "codemirror_mode": {
    "name": "ipython",
    "version": 3
   },
   "file_extension": ".py",
   "mimetype": "text/x-python",
   "name": "python",
   "nbconvert_exporter": "python",
   "pygments_lexer": "ipython3",
   "version": "3.8.2"
  }
 },
 "nbformat": 4,
 "nbformat_minor": 4
}
